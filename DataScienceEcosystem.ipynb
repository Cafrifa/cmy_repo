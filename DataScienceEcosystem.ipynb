{
 "cells": [
  {
   "cell_type": "markdown",
   "id": "4d2367ab-edff-4e04-ab59-f25473796665",
   "metadata": {},
   "source": [
    "# Data Science Tools and Ecosystem"
   ]
  },
  {
   "cell_type": "markdown",
   "id": "e5e569ab-971c-49cc-9825-011884463694",
   "metadata": {},
   "source": [
    "In this notebook, Data Science tools and Ecosystem are summarized"
   ]
  },
  {
   "cell_type": "markdown",
   "id": "67e08f60-11b6-4376-a9ad-47766ffb24a9",
   "metadata": {},
   "source": [
    "Some of the popular languages that Data Scientists use are:\n",
    "1. Python\n",
    "2. R\n",
    "3. JavaScript\n",
    "4. Julia\n",
    "5. C++"
   ]
  },
  {
   "cell_type": "markdown",
   "id": "9bb08947-94b1-4324-a48e-ebcd5eaa3e54",
   "metadata": {},
   "source": [
    "**Objective**\n",
    "* Python\n",
    "* JavaScript\n",
    "* C++\n",
    "* Julia\n",
    "* Scala\n"
   ]
  },
  {
   "cell_type": "markdown",
   "id": "f9f85961-a0c2-42e1-b68d-c551246bfcf1",
   "metadata": {},
   "source": [
    "Some of the commonly used libraries by Data Scientists include:\n",
    "1. Pandas\n",
    "2. NumPy\n",
    "3. Matplotlib\n",
    "4. SciPy\n",
    "5. Pytorch\n",
    "6. Keras"
   ]
  },
  {
   "cell_type": "markdown",
   "id": "8265e364-8201-4ccb-b408-084dc37d06dd",
   "metadata": {
    "tags": []
   },
   "source": [
    "|Data Science Tools|\n",
    "|------------------|\n",
    "|RStudio|\n",
    "|Apache Spark|\n",
    "|TensorFlow|"
   ]
  },
  {
   "cell_type": "markdown",
   "id": "d3b44339-b7e4-48ed-ac40-7fc727d1735d",
   "metadata": {},
   "source": [
    "### Below are a few examples of evaluating arithmetic expression in Python"
   ]
  },
  {
   "cell_type": "code",
   "execution_count": null,
   "id": "2dbd82af-4311-4049-8c5a-fb200d36716c",
   "metadata": {
    "tags": []
   },
   "outputs": [],
   "source": [
    "# This is a simple arithmetic expression to multiple  then add intrgers\n",
    "(3*4)+5"
   ]
  },
  {
   "cell_type": "code",
   "execution_count": 3,
   "id": "c5b92e0d-d179-4f9a-af79-096b85f39652",
   "metadata": {
    "tags": []
   },
   "outputs": [
    {
     "data": {
      "text/plain": [
       "3.3333333333333335"
      ]
     },
     "execution_count": 3,
     "metadata": {},
     "output_type": "execute_result"
    }
   ],
   "source": [
    "# Converting 200mins into hours\n",
    "# This will convert 200mins to hours by dividing by 60\n",
    "(200/60)"
   ]
  },
  {
   "cell_type": "markdown",
   "id": "fc46ee37-5c1e-48ab-911c-a33eec905bb4",
   "metadata": {},
   "source": [
    "## Author\n",
    "Clinton Afrifa"
   ]
  },
  {
   "cell_type": "code",
   "execution_count": null,
   "id": "5c81fc50-fbcd-4b88-bbaa-5550c657f9f8",
   "metadata": {},
   "outputs": [],
   "source": []
  }
 ],
 "metadata": {
  "kernelspec": {
   "display_name": "Python",
   "language": "python",
   "name": "conda-env-python-py"
  },
  "language_info": {
   "codemirror_mode": {
    "name": "ipython",
    "version": 3
   },
   "file_extension": ".py",
   "mimetype": "text/x-python",
   "name": "python",
   "nbconvert_exporter": "python",
   "pygments_lexer": "ipython3",
   "version": "3.7.12"
  }
 },
 "nbformat": 4,
 "nbformat_minor": 5
}
